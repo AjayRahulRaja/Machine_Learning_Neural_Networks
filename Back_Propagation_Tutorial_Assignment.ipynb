{
  "nbformat": 4,
  "nbformat_minor": 0,
  "metadata": {
    "colab": {
      "provenance": [],
      "authorship_tag": "ABX9TyPWwhf0lhlXf77RTPu9R4ku",
      "include_colab_link": true
    },
    "kernelspec": {
      "name": "python3",
      "display_name": "Python 3"
    },
    "language_info": {
      "name": "python"
    }
  },
  "cells": [
    {
      "cell_type": "markdown",
      "metadata": {
        "id": "view-in-github",
        "colab_type": "text"
      },
      "source": [
        "<a href=\"https://colab.research.google.com/github/AjayRahulRaja/Machine_Learning_Neural_Networks/blob/main/Back_Propagation_Tutorial_Assignment.ipynb\" target=\"_parent\"><img src=\"https://colab.research.google.com/assets/colab-badge.svg\" alt=\"Open In Colab\"/></a>"
      ]
    },
    {
      "cell_type": "code",
      "execution_count": 1,
      "metadata": {
        "colab": {
          "base_uri": "https://localhost:8080/"
        },
        "id": "jZi2LekByDfv",
        "outputId": "99852dcd-f05e-4d6d-bbb4-9427a409005c"
      },
      "outputs": [
        {
          "output_type": "stream",
          "name": "stdout",
          "text": [
            "Epoch 0 - Loss: 0.2880\n",
            "Epoch 1000 - Loss: 0.2494\n",
            "Epoch 2000 - Loss: 0.2457\n",
            "Epoch 3000 - Loss: 0.2200\n",
            "Epoch 4000 - Loss: 0.1622\n",
            "Epoch 5000 - Loss: 0.0527\n",
            "Epoch 6000 - Loss: 0.0169\n",
            "Epoch 7000 - Loss: 0.0089\n",
            "Epoch 8000 - Loss: 0.0058\n",
            "Epoch 9000 - Loss: 0.0043\n",
            "Final predictions:\n",
            "[[0.06029012]\n",
            " [0.94447222]\n",
            " [0.944367  ]\n",
            " [0.05997169]]\n"
          ]
        }
      ],
      "source": [
        "import numpy as np\n",
        "\n",
        "# Activation Functions\n",
        "def sigmoid(x):\n",
        "    return 1 / (1 + np.exp(-x))\n",
        "\n",
        "def sigmoid_derivative(x):\n",
        "    return x * (1 - x)\n",
        "\n",
        "# Input data (XOR logic)\n",
        "inputs = np.array([\n",
        "    [0, 0],\n",
        "    [0, 1],\n",
        "    [1, 0],\n",
        "    [1, 1]\n",
        "])\n",
        "\n",
        "# Target output\n",
        "targets = np.array([[0], [1], [1], [0]])\n",
        "\n",
        "# Initialize weights and biases\n",
        "np.random.seed(42)\n",
        "input_layer_weights = np.random.rand(2, 2)  # Two inputs, two neurons in the hidden layer\n",
        "hidden_layer_weights = np.random.rand(2, 1)  # Two neurons in the hidden layer, one output\n",
        "hidden_layer_bias = np.random.rand(1, 2)\n",
        "output_layer_bias = np.random.rand(1, 1)\n",
        "\n",
        "# Hyperparameters\n",
        "learning_rate = 0.1\n",
        "epochs = 10000\n",
        "\n",
        "# Training process\n",
        "for epoch in range(epochs):\n",
        "    # Forward Pass\n",
        "    # Step 1: Compute hidden layer activation\n",
        "    hidden_layer_input = np.dot(inputs, input_layer_weights) + hidden_layer_bias\n",
        "    hidden_layer_output = sigmoid(hidden_layer_input)\n",
        "\n",
        "    # Step 2: Compute output layer activation\n",
        "    output_layer_input = np.dot(hidden_layer_output, hidden_layer_weights) + output_layer_bias\n",
        "    predictions = sigmoid(output_layer_input)\n",
        "\n",
        "    # Loss computation (Mean Squared Error)\n",
        "    loss = np.mean((targets - predictions) ** 2)\n",
        "\n",
        "    # Backpropagation\n",
        "    # Step 1: Calculate output layer error and delta\n",
        "    output_error = targets - predictions\n",
        "    output_delta = output_error * sigmoid_derivative(predictions)\n",
        "\n",
        "    # Step 2: Calculate hidden layer error and delta\n",
        "    hidden_error = np.dot(output_delta, hidden_layer_weights.T)\n",
        "    hidden_delta = hidden_error * sigmoid_derivative(hidden_layer_output)\n",
        "\n",
        "    # Weight and bias updates\n",
        "    hidden_layer_weights += learning_rate * np.dot(hidden_layer_output.T, output_delta)\n",
        "    output_layer_bias += learning_rate * np.sum(output_delta, axis=0, keepdims=True)\n",
        "    input_layer_weights += learning_rate * np.dot(inputs.T, hidden_delta)\n",
        "    hidden_layer_bias += learning_rate * np.sum(hidden_delta, axis=0, keepdims=True)\n",
        "\n",
        "    # Print loss periodically\n",
        "    if epoch % 1000 == 0:\n",
        "        print(f\"Epoch {epoch} - Loss: {loss:.4f}\")\n",
        "\n",
        "# Final predictions\n",
        "print(\"Final predictions:\")\n",
        "print(predictions)\n"
      ]
    },
    {
      "cell_type": "code",
      "source": [],
      "metadata": {
        "id": "KEJs7uz2yFQc"
      },
      "execution_count": null,
      "outputs": []
    }
  ]
}